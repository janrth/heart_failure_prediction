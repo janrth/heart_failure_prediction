{
 "cells": [
  {
   "cell_type": "code",
   "execution_count": 1,
   "metadata": {},
   "outputs": [],
   "source": [
    "import numpy as np\n",
    "import pandas as pd\n",
    "import matplotlib.pyplot as plt\n",
    "import scipy.stats\n",
    "import random \n",
    "import matplotlib as mpl\n",
    "import sklearn \n",
    "import datetime\n",
    "#!pip install xgboost\n",
    "#!pip install hyperopt\n",
    "###########for classification#################\n",
    "import xgboost as xgb\n",
    "from sklearn.model_selection import train_test_split\n",
    "from sklearn.linear_model import LogisticRegression\n",
    "from sklearn.preprocessing import MinMaxScaler #Used to scale data. also good idea when doing regularization\n",
    "from sklearn import metrics\n",
    "from  sklearn import linear_model, neural_network, ensemble\n",
    "#!pip install category_encoders\n",
    "import category_encoders as ce\n",
    "from sklearn.metrics import roc_auc_score\n",
    "from sklearn.pipeline import Pipeline\n",
    "from sklearn.ensemble import RandomForestClassifier\n",
    "from sklearn.model_selection import GridSearchCV\n",
    "from sklearn.metrics import classification_report\n",
    "from hyperopt import STATUS_OK, Trials, fmin, hp, tpe, space_eval\n",
    "import hyperopt \n",
    "from hyperopt.pyll.stochastic import sample as ho_sample\n",
    "from sklearn.utils.class_weight import compute_sample_weight\n",
    "from sklearn.metrics import average_precision_score\n",
    "from sklearn.metrics import precision_recall_curve \n",
    "##############################################\n",
    "#set the pd output value\n",
    "pd.set_option('display.max_rows', 500)\n",
    "pd.set_option('display.max_columns', 500)\n",
    "pd.set_option('display.width', 1000)"
   ]
  },
  {
   "cell_type": "code",
   "execution_count": 2,
   "metadata": {},
   "outputs": [],
   "source": [
    "df = pd.read_csv('heart_failure_clinical_records_dataset.csv')"
   ]
  },
  {
   "cell_type": "markdown",
   "metadata": {},
   "source": [
    "### data description"
   ]
  },
  {
   "cell_type": "code",
   "execution_count": 3,
   "metadata": {},
   "outputs": [
    {
     "data": {
      "text/html": [
       "<div>\n",
       "<style scoped>\n",
       "    .dataframe tbody tr th:only-of-type {\n",
       "        vertical-align: middle;\n",
       "    }\n",
       "\n",
       "    .dataframe tbody tr th {\n",
       "        vertical-align: top;\n",
       "    }\n",
       "\n",
       "    .dataframe thead th {\n",
       "        text-align: right;\n",
       "    }\n",
       "</style>\n",
       "<table border=\"1\" class=\"dataframe\">\n",
       "  <thead>\n",
       "    <tr style=\"text-align: right;\">\n",
       "      <th></th>\n",
       "      <th>age</th>\n",
       "      <th>anaemia</th>\n",
       "      <th>creatinine_phosphokinase</th>\n",
       "      <th>diabetes</th>\n",
       "      <th>ejection_fraction</th>\n",
       "      <th>high_blood_pressure</th>\n",
       "      <th>platelets</th>\n",
       "      <th>serum_creatinine</th>\n",
       "      <th>serum_sodium</th>\n",
       "      <th>sex</th>\n",
       "      <th>smoking</th>\n",
       "      <th>time</th>\n",
       "      <th>DEATH_EVENT</th>\n",
       "    </tr>\n",
       "  </thead>\n",
       "  <tbody>\n",
       "    <tr>\n",
       "      <th>count</th>\n",
       "      <td>299.000000</td>\n",
       "      <td>299.000000</td>\n",
       "      <td>299.000000</td>\n",
       "      <td>299.000000</td>\n",
       "      <td>299.000000</td>\n",
       "      <td>299.000000</td>\n",
       "      <td>299.000000</td>\n",
       "      <td>299.00000</td>\n",
       "      <td>299.000000</td>\n",
       "      <td>299.000000</td>\n",
       "      <td>299.00000</td>\n",
       "      <td>299.000000</td>\n",
       "      <td>299.00000</td>\n",
       "    </tr>\n",
       "    <tr>\n",
       "      <th>mean</th>\n",
       "      <td>60.833893</td>\n",
       "      <td>0.431438</td>\n",
       "      <td>581.839465</td>\n",
       "      <td>0.418060</td>\n",
       "      <td>38.083612</td>\n",
       "      <td>0.351171</td>\n",
       "      <td>263358.029264</td>\n",
       "      <td>1.39388</td>\n",
       "      <td>136.625418</td>\n",
       "      <td>0.648829</td>\n",
       "      <td>0.32107</td>\n",
       "      <td>130.260870</td>\n",
       "      <td>0.32107</td>\n",
       "    </tr>\n",
       "    <tr>\n",
       "      <th>std</th>\n",
       "      <td>11.894809</td>\n",
       "      <td>0.496107</td>\n",
       "      <td>970.287881</td>\n",
       "      <td>0.494067</td>\n",
       "      <td>11.834841</td>\n",
       "      <td>0.478136</td>\n",
       "      <td>97804.236869</td>\n",
       "      <td>1.03451</td>\n",
       "      <td>4.412477</td>\n",
       "      <td>0.478136</td>\n",
       "      <td>0.46767</td>\n",
       "      <td>77.614208</td>\n",
       "      <td>0.46767</td>\n",
       "    </tr>\n",
       "    <tr>\n",
       "      <th>min</th>\n",
       "      <td>40.000000</td>\n",
       "      <td>0.000000</td>\n",
       "      <td>23.000000</td>\n",
       "      <td>0.000000</td>\n",
       "      <td>14.000000</td>\n",
       "      <td>0.000000</td>\n",
       "      <td>25100.000000</td>\n",
       "      <td>0.50000</td>\n",
       "      <td>113.000000</td>\n",
       "      <td>0.000000</td>\n",
       "      <td>0.00000</td>\n",
       "      <td>4.000000</td>\n",
       "      <td>0.00000</td>\n",
       "    </tr>\n",
       "    <tr>\n",
       "      <th>25%</th>\n",
       "      <td>51.000000</td>\n",
       "      <td>0.000000</td>\n",
       "      <td>116.500000</td>\n",
       "      <td>0.000000</td>\n",
       "      <td>30.000000</td>\n",
       "      <td>0.000000</td>\n",
       "      <td>212500.000000</td>\n",
       "      <td>0.90000</td>\n",
       "      <td>134.000000</td>\n",
       "      <td>0.000000</td>\n",
       "      <td>0.00000</td>\n",
       "      <td>73.000000</td>\n",
       "      <td>0.00000</td>\n",
       "    </tr>\n",
       "    <tr>\n",
       "      <th>50%</th>\n",
       "      <td>60.000000</td>\n",
       "      <td>0.000000</td>\n",
       "      <td>250.000000</td>\n",
       "      <td>0.000000</td>\n",
       "      <td>38.000000</td>\n",
       "      <td>0.000000</td>\n",
       "      <td>262000.000000</td>\n",
       "      <td>1.10000</td>\n",
       "      <td>137.000000</td>\n",
       "      <td>1.000000</td>\n",
       "      <td>0.00000</td>\n",
       "      <td>115.000000</td>\n",
       "      <td>0.00000</td>\n",
       "    </tr>\n",
       "    <tr>\n",
       "      <th>75%</th>\n",
       "      <td>70.000000</td>\n",
       "      <td>1.000000</td>\n",
       "      <td>582.000000</td>\n",
       "      <td>1.000000</td>\n",
       "      <td>45.000000</td>\n",
       "      <td>1.000000</td>\n",
       "      <td>303500.000000</td>\n",
       "      <td>1.40000</td>\n",
       "      <td>140.000000</td>\n",
       "      <td>1.000000</td>\n",
       "      <td>1.00000</td>\n",
       "      <td>203.000000</td>\n",
       "      <td>1.00000</td>\n",
       "    </tr>\n",
       "    <tr>\n",
       "      <th>max</th>\n",
       "      <td>95.000000</td>\n",
       "      <td>1.000000</td>\n",
       "      <td>7861.000000</td>\n",
       "      <td>1.000000</td>\n",
       "      <td>80.000000</td>\n",
       "      <td>1.000000</td>\n",
       "      <td>850000.000000</td>\n",
       "      <td>9.40000</td>\n",
       "      <td>148.000000</td>\n",
       "      <td>1.000000</td>\n",
       "      <td>1.00000</td>\n",
       "      <td>285.000000</td>\n",
       "      <td>1.00000</td>\n",
       "    </tr>\n",
       "  </tbody>\n",
       "</table>\n",
       "</div>"
      ],
      "text/plain": [
       "              age     anaemia  creatinine_phosphokinase    diabetes  ejection_fraction  high_blood_pressure      platelets  serum_creatinine  serum_sodium         sex    smoking        time  DEATH_EVENT\n",
       "count  299.000000  299.000000                299.000000  299.000000         299.000000           299.000000     299.000000         299.00000    299.000000  299.000000  299.00000  299.000000    299.00000\n",
       "mean    60.833893    0.431438                581.839465    0.418060          38.083612             0.351171  263358.029264           1.39388    136.625418    0.648829    0.32107  130.260870      0.32107\n",
       "std     11.894809    0.496107                970.287881    0.494067          11.834841             0.478136   97804.236869           1.03451      4.412477    0.478136    0.46767   77.614208      0.46767\n",
       "min     40.000000    0.000000                 23.000000    0.000000          14.000000             0.000000   25100.000000           0.50000    113.000000    0.000000    0.00000    4.000000      0.00000\n",
       "25%     51.000000    0.000000                116.500000    0.000000          30.000000             0.000000  212500.000000           0.90000    134.000000    0.000000    0.00000   73.000000      0.00000\n",
       "50%     60.000000    0.000000                250.000000    0.000000          38.000000             0.000000  262000.000000           1.10000    137.000000    1.000000    0.00000  115.000000      0.00000\n",
       "75%     70.000000    1.000000                582.000000    1.000000          45.000000             1.000000  303500.000000           1.40000    140.000000    1.000000    1.00000  203.000000      1.00000\n",
       "max     95.000000    1.000000               7861.000000    1.000000          80.000000             1.000000  850000.000000           9.40000    148.000000    1.000000    1.00000  285.000000      1.00000"
      ]
     },
     "execution_count": 3,
     "metadata": {},
     "output_type": "execute_result"
    }
   ],
   "source": [
    "df.describe()"
   ]
  },
  {
   "cell_type": "code",
   "execution_count": 4,
   "metadata": {},
   "outputs": [
    {
     "data": {
      "text/plain": [
       "age                         float64\n",
       "anaemia                       int64\n",
       "creatinine_phosphokinase      int64\n",
       "diabetes                      int64\n",
       "ejection_fraction             int64\n",
       "high_blood_pressure           int64\n",
       "platelets                   float64\n",
       "serum_creatinine            float64\n",
       "serum_sodium                  int64\n",
       "sex                           int64\n",
       "smoking                       int64\n",
       "time                          int64\n",
       "DEATH_EVENT                   int64\n",
       "dtype: object"
      ]
     },
     "execution_count": 4,
     "metadata": {},
     "output_type": "execute_result"
    }
   ],
   "source": [
    "df.dtypes"
   ]
  },
  {
   "cell_type": "code",
   "execution_count": 55,
   "metadata": {},
   "outputs": [
    {
     "data": {
      "text/plain": [
       "Index(['age', 'anaemia', 'creatinine_phosphokinase', 'diabetes', 'ejection_fraction', 'high_blood_pressure', 'platelets', 'serum_creatinine', 'serum_sodium', 'sex', 'smoking', 'time', 'DEATH_EVENT', 'high_blood_pressure_smoking', 'diabetes_smoking', 'age_smoking', 'sex_smoking', 'anaemia_smoking'], dtype='object')"
      ]
     },
     "execution_count": 55,
     "metadata": {},
     "output_type": "execute_result"
    }
   ],
   "source": [
    "df.columns"
   ]
  },
  {
   "cell_type": "code",
   "execution_count": 56,
   "metadata": {},
   "outputs": [],
   "source": [
    "#Define target and variables:\n",
    "target_dummy = 'DEATH_EVENT'\n",
    "dummy_variables = ['anaemia', 'diabetes', 'high_blood_pressure', 'sex', 'smoking']\n",
    "numerical_variables = ['age','creatinine_phosphokinase','ejection_fraction','platelets','serum_creatinine', 'serum_sodium']\n",
    "all_variables = dummy_variables + numerical_variables"
   ]
  },
  {
   "cell_type": "code",
   "execution_count": 57,
   "metadata": {},
   "outputs": [
    {
     "data": {
      "text/plain": [
       "age                             float64\n",
       "anaemia                        category\n",
       "creatinine_phosphokinase          int64\n",
       "diabetes                       category\n",
       "ejection_fraction                 int64\n",
       "high_blood_pressure            category\n",
       "platelets                       float64\n",
       "serum_creatinine                float64\n",
       "serum_sodium                      int64\n",
       "sex                            category\n",
       "smoking                        category\n",
       "time                              int64\n",
       "DEATH_EVENT                       int64\n",
       "high_blood_pressure_smoking    category\n",
       "diabetes_smoking               category\n",
       "age_smoking                    category\n",
       "sex_smoking                    category\n",
       "anaemia_smoking                category\n",
       "dtype: object"
      ]
     },
     "execution_count": 57,
     "metadata": {},
     "output_type": "execute_result"
    }
   ],
   "source": [
    "#convert dummy to categorical dtypes\n",
    "for col in dummy_variables:\n",
    "    df[col] = df[col].astype('category')\n",
    "df.dtypes"
   ]
  },
  {
   "cell_type": "markdown",
   "metadata": {},
   "source": [
    "### model training"
   ]
  },
  {
   "cell_type": "code",
   "execution_count": 61,
   "metadata": {},
   "outputs": [
    {
     "data": {
      "text/plain": [
       "Index(['anaemia', 'diabetes', 'high_blood_pressure', 'sex', 'smoking', 'age', 'creatinine_phosphokinase', 'ejection_fraction', 'platelets', 'serum_creatinine', 'serum_sodium'], dtype='object')"
      ]
     },
     "execution_count": 61,
     "metadata": {},
     "output_type": "execute_result"
    }
   ],
   "source": [
    "target = df[target_dummy]\n",
    "features = df[all_variables]\n",
    "features.columns"
   ]
  },
  {
   "cell_type": "code",
   "execution_count": 62,
   "metadata": {},
   "outputs": [
    {
     "name": "stdout",
     "output_type": "stream",
     "text": [
      "(239, 11)\n",
      "(60, 11)\n",
      "(239,)\n",
      "(60,)\n",
      "0.31666666666666665\n",
      "0.32217573221757323\n"
     ]
    }
   ],
   "source": [
    "#Create train and test data\n",
    "X_train, X_test, y_train, y_test = train_test_split(features, target, test_size = 0.2, random_state = 2, stratify = target)\n",
    "\n",
    "print(X_train.shape)\n",
    "print(X_test.shape)\n",
    "print(y_train.shape)\n",
    "print(y_test.shape)\n",
    "\n",
    "#Check if fraction of positive class is similar in train and test\n",
    "print(np.mean(y_test))\n",
    "print(np.mean(y_train))"
   ]
  },
  {
   "cell_type": "code",
   "execution_count": 63,
   "metadata": {},
   "outputs": [],
   "source": [
    "#We scale the data, to get better results. I will not test this, as normally we get better results using scaled data:\n",
    "min_max_sc = MinMaxScaler()"
   ]
  },
  {
   "cell_type": "code",
   "execution_count": 64,
   "metadata": {},
   "outputs": [],
   "source": [
    "#############Model 1: Logistic Regression##################\n",
    "#Because we have unbalanced data, I already pick 'balanced' for class_weight in my base model. No need to test this. For sure\n",
    "# it will give better results:\n",
    "lr_basic = LogisticRegression(C = 1, random_state = 100, solver = 'warn', max_iter = 1000)\n",
    "scale_lr_pipeline = Pipeline(steps = [('scaler', min_max_sc), ('model', lr_basic)])\n",
    "\n",
    "#################Model 2: Random Forest Classification###################\n",
    "rfc_basic = RandomForestClassifier()\n",
    "scale_rf_pipeline = Pipeline(steps = [('scaler', min_max_sc), ('model', rfc_basic)])\n",
    "\n",
    "#################Model 3: XG Boost############\n",
    "xgboost_basic = xgb.XGBClassifier()\n",
    "scale_xg_pipeline = Pipeline(steps = [('scaler', min_max_sc), ('model', xgboost_basic)])"
   ]
  },
  {
   "cell_type": "code",
   "execution_count": 65,
   "metadata": {},
   "outputs": [],
   "source": [
    "#Encode categorical features\n",
    "encoder = ce.CatBoostEncoder() \n",
    "X_train = encoder.fit_transform(X_train, y_train)\n",
    "X_test = encoder.fit_transform(X_test, y_test)"
   ]
  },
  {
   "cell_type": "code",
   "execution_count": 66,
   "metadata": {},
   "outputs": [
    {
     "name": "stdout",
     "output_type": "stream",
     "text": [
      "0.7280334728033473\n",
      "0.9707112970711297\n",
      "1.0\n"
     ]
    },
    {
     "name": "stderr",
     "output_type": "stream",
     "text": [
      "C:\\Users\\jrathfelder\\AppData\\Local\\Continuum\\anaconda3\\lib\\site-packages\\sklearn\\preprocessing\\data.py:323: DataConversionWarning: Data with input dtype int64, float64 were all converted to float64 by MinMaxScaler.\n",
      "  return self.partial_fit(X, y)\n",
      "C:\\Users\\jrathfelder\\AppData\\Local\\Continuum\\anaconda3\\lib\\site-packages\\sklearn\\linear_model\\logistic.py:433: FutureWarning: Default solver will be changed to 'lbfgs' in 0.22. Specify a solver to silence this warning.\n",
      "  FutureWarning)\n",
      "C:\\Users\\jrathfelder\\AppData\\Local\\Continuum\\anaconda3\\lib\\site-packages\\sklearn\\preprocessing\\data.py:323: DataConversionWarning: Data with input dtype int64, float64 were all converted to float64 by MinMaxScaler.\n",
      "  return self.partial_fit(X, y)\n",
      "C:\\Users\\jrathfelder\\AppData\\Local\\Continuum\\anaconda3\\lib\\site-packages\\sklearn\\ensemble\\forest.py:246: FutureWarning: The default value of n_estimators will change from 10 in version 0.20 to 100 in 0.22.\n",
      "  \"10 in version 0.20 to 100 in 0.22.\", FutureWarning)\n",
      "C:\\Users\\jrathfelder\\AppData\\Local\\Continuum\\anaconda3\\lib\\site-packages\\sklearn\\preprocessing\\data.py:323: DataConversionWarning: Data with input dtype int64, float64 were all converted to float64 by MinMaxScaler.\n",
      "  return self.partial_fit(X, y)\n"
     ]
    }
   ],
   "source": [
    "#############################################################\n",
    "#Run all three base models and get their initial performance:\n",
    "scale_lr_pipeline.fit(X_train, y_train) #method for random forest classifier) #Logistic Regression\n",
    "scale_rf_pipeline.fit(X_train, y_train) #Random Forest Classification\n",
    "scale_xg_pipeline.fit(X_train, y_train) #XG Boost Classification\n",
    "\n",
    "print(scale_lr_pipeline.score(X_train, y_train))\n",
    "print(scale_rf_pipeline.score(X_train, y_train))\n",
    "print(scale_xg_pipeline.score(X_train, y_train))"
   ]
  },
  {
   "cell_type": "code",
   "execution_count": 67,
   "metadata": {},
   "outputs": [],
   "source": [
    "y_pred_proba_lr = scale_lr_pipeline.predict_proba(X_test) #returns the predicted probability \n",
    "pos_proba_lr = y_pred_proba_lr[:,1] #array of positive probability\n",
    "neg_proba_lr = y_pred_proba_lr[:,0] #array of negative probability\n",
    "\n",
    "y_pred_proba_rf = scale_rf_pipeline.predict_proba(X_test) #returns the predicted probability \n",
    "pos_proba_rf = y_pred_proba_rf[:,1] #array of positive probability\n",
    "neg_proba_rf = y_pred_proba_rf[:,0] #array of negative probability\n",
    "\n",
    "y_pred_proba_xg = scale_xg_pipeline.predict_proba(X_test) #returns the predicted probability \n",
    "pos_proba_xg = y_pred_proba_xg[:,1] #array of positive probability\n",
    "neg_proba_xg = y_pred_proba_xg[:,0] #array of negative probability\n",
    "\n",
    "#Get TPR and FPR and threshold values to plot curve:\n",
    "fpr_basic, tpr_basic, threshold_lr = metrics.roc_curve(y_test, pos_proba_lr, drop_intermediate = False)\n",
    "fpr_rf, tpr_rf, threshold_rf = metrics.roc_curve(y_test, pos_proba_rf, drop_intermediate = False)\n",
    "fpr_xg, tpr_xg, threshold_xg = metrics.roc_curve(y_test, pos_proba_xg, drop_intermediate = False)"
   ]
  },
  {
   "cell_type": "code",
   "execution_count": 68,
   "metadata": {},
   "outputs": [
    {
     "name": "stdout",
     "output_type": "stream",
     "text": [
      "Logistic regression: 0.8151476251604619\n",
      "Random Forest Classifier: 0.766367137355584\n",
      "XG Boost: 0.72400513478819\n"
     ]
    }
   ],
   "source": [
    "#ROC AUC Score\n",
    "print('Logistic regression:', roc_auc_score(y_test, pos_proba_lr))\n",
    "print('Random Forest Classifier:', roc_auc_score(y_test, pos_proba_rf))\n",
    "print('XG Boost:', roc_auc_score(y_test, pos_proba_xg))"
   ]
  },
  {
   "cell_type": "code",
   "execution_count": 69,
   "metadata": {},
   "outputs": [
    {
     "data": {
      "text/plain": [
       "Text(0.5, 1.0, 'ROC Curve')"
      ]
     },
     "execution_count": 69,
     "metadata": {},
     "output_type": "execute_result"
    },
    {
     "data": {
      "image/png": "[encoded data removed]",
      "text/plain": [
       "<Figure size 1080x576 with 1 Axes>"
      ]
     },
     "metadata": {
      "needs_background": "light"
     },
     "output_type": "display_data"
    }
   ],
   "source": [
    "plt.subplots(figsize=(15,8))\n",
    "\n",
    "plt.plot(fpr_basic, tpr_basic, '')\n",
    "plt.plot(fpr_rf, tpr_rf, '')\n",
    "plt.plot(fpr_xg, tpr_xg, '')\n",
    "\n",
    "plt.plot([0,1],[0,1],'r--')\n",
    "plt.legend(['Logistic Regression Base Model','Random Forest Base Model','XG Boost Base Model', 'Random Chance', 'Optimized Threshold'], fontsize = 12)\n",
    "plt.xlabel('FPR')\n",
    "plt.ylabel('TPR')\n",
    "plt.title('ROC Curve')"
   ]
  },
  {
   "cell_type": "code",
   "execution_count": 71,
   "metadata": {
    "scrolled": false
   },
   "outputs": [
    {
     "name": "stdout",
     "output_type": "stream",
     "text": [
      "Pipeline(memory=None,\n",
      "     steps=[('scaler', MinMaxScaler(copy=True, feature_range=(0, 1))), ('model', LogisticRegression(C=1, class_weight=None, dual=False, fit_intercept=True,\n",
      "          intercept_scaling=1, max_iter=1000, multi_class='warn',\n",
      "          n_jobs=None, penalty='l2', random_state=100, solver='warn',\n",
      "          tol=0.0001, verbose=0, warm_start=False))])\n",
      "DEATH_EVENT    0.316667\n",
      "pred           0.150000\n",
      "error          0.266667\n",
      "dtype: float64\n",
      "[[38  3]\n",
      " [13  6]]\n",
      "0.926829268292683 0.3157894736842105\n",
      "\n",
      "Pipeline(memory=None,\n",
      "     steps=[('scaler', MinMaxScaler(copy=True, feature_range=(0, 1))), ('model', RandomForestClassifier(bootstrap=True, class_weight=None, criterion='gini',\n",
      "            max_depth=None, max_features='auto', max_leaf_nodes=None,\n",
      "            min_impurity_decrease=0.0, min_impurity_split=None,\n",
      "            mi...obs=None,\n",
      "            oob_score=False, random_state=None, verbose=0,\n",
      "            warm_start=False))])\n",
      "DEATH_EVENT    0.316667\n",
      "pred           0.416667\n",
      "error          0.266667\n",
      "dtype: float64\n",
      "[[30 11]\n",
      " [ 5 14]]\n",
      "0.7317073170731707 0.7368421052631579\n",
      "\n",
      "Pipeline(memory=None,\n",
      "     steps=[('scaler', MinMaxScaler(copy=True, feature_range=(0, 1))), ('model', XGBClassifier(base_score=0.5, booster='gbtree', colsample_bylevel=1,\n",
      "       colsample_bynode=1, colsample_bytree=1, gamma=0, gpu_id=-1,\n",
      "       importance_type='gain', interaction_constraints='',\n",
      "       learning_rate=0.300000...cale_pos_weight=1, subsample=1, tree_method='exact',\n",
      "       validate_parameters=1, verbosity=None))])\n",
      "DEATH_EVENT    0.316667\n",
      "pred           0.450000\n",
      "error          0.333333\n",
      "dtype: float64\n",
      "[[27 14]\n",
      " [ 6 13]]\n",
      "0.6585365853658537 0.6842105263157895\n",
      "\n"
     ]
    },
    {
     "data": {
      "image/png": "[encoded data removed]",
      "text/plain": [
       "<Figure size 432x288 with 4 Axes>"
      ]
     },
     "metadata": {
      "needs_background": "light"
     },
     "output_type": "display_data"
    },
    {
     "data": {
      "image/png": "[encoded data removed]",
      "text/plain": [
       "<Figure size 432x288 with 4 Axes>"
      ]
     },
     "metadata": {
      "needs_background": "light"
     },
     "output_type": "display_data"
    },
    {
     "data": {
      "image/png": "[encoded data removed]",
      "text/plain": [
       "<Figure size 432x288 with 4 Axes>"
      ]
     },
     "metadata": {
      "needs_background": "light"
     },
     "output_type": "display_data"
    }
   ],
   "source": [
    "for i,v in enumerate([scale_lr_pipeline,scale_rf_pipeline,scale_xg_pipeline]):\n",
    "    print(v)\n",
    "    pred = v.predict(X_test)\n",
    "    y_test = pd.DataFrame(y_test)\n",
    "    y_test['pred'] = pred\n",
    "\n",
    "    #zero-one error\n",
    "    y_test['error'] = np.where(y_test.DEATH_EVENT == y_test.pred,0,1)\n",
    "    print(y_test.mean())\n",
    "    y_test.hist()\n",
    "    print(metrics.confusion_matrix(y_test['DEATH_EVENT'], y_test['pred']))\n",
    "\n",
    "    TP_low = metrics.confusion_matrix(y_test['DEATH_EVENT'], y_test['pred'])[0][0] / np.sum(metrics.confusion_matrix(y_test['DEATH_EVENT'], y_test['pred'])[0])\n",
    "    TP_top = metrics.confusion_matrix(y_test['DEATH_EVENT'], y_test['pred'])[1][1] / np.sum(metrics.confusion_matrix(y_test['DEATH_EVENT'], y_test['pred'])[1])\n",
    "    print(TP_low,TP_top)\n",
    "    print()"
   ]
  },
  {
   "cell_type": "markdown",
   "metadata": {},
   "source": [
    "### Feature Interaction"
   ]
  },
  {
   "cell_type": "code",
   "execution_count": 72,
   "metadata": {},
   "outputs": [
    {
     "data": {
      "text/plain": [
       "Index(['age', 'anaemia', 'creatinine_phosphokinase', 'diabetes', 'ejection_fraction', 'high_blood_pressure', 'platelets', 'serum_creatinine', 'serum_sodium', 'sex', 'smoking', 'time', 'DEATH_EVENT', 'high_blood_pressure_smoking', 'diabetes_smoking', 'age_smoking', 'sex_smoking', 'anaemia_smoking'], dtype='object')"
      ]
     },
     "execution_count": 72,
     "metadata": {},
     "output_type": "execute_result"
    }
   ],
   "source": [
    "df.columns"
   ]
  },
  {
   "cell_type": "code",
   "execution_count": 73,
   "metadata": {},
   "outputs": [],
   "source": [
    "#add interaction between features:\n",
    "df['high_blood_pressure_smoking'] = df.high_blood_pressure.astype(str) + df.smoking.astype(str)\n",
    "df['diabetes_smoking'] = df.diabetes.astype(str) + df.smoking.astype(str)\n",
    "df['age_smoking'] = df.age.astype(str) + df.smoking.astype(str)\n",
    "df['sex_smoking'] = df.sex.astype(str) + df.smoking.astype(str)\n",
    "df['anaemia_smoking'] = df.anaemia.astype(str) + df.smoking.astype(str)"
   ]
  },
  {
   "cell_type": "code",
   "execution_count": 74,
   "metadata": {},
   "outputs": [],
   "source": [
    "#Define target and variables:\n",
    "target_dummy = 'DEATH_EVENT'\n",
    "dummy_variables = ['anaemia', 'diabetes', 'high_blood_pressure', 'sex', 'smoking']\n",
    "numerical_variables = ['age','creatinine_phosphokinase','ejection_fraction','platelets','serum_creatinine', 'serum_sodium']\n",
    "interaction = ['high_blood_pressure_smoking','diabetes_smoking','age_smoking','sex_smoking','anaemia_smoking']\n",
    "all_variables = dummy_variables + numerical_variables + interaction"
   ]
  },
  {
   "cell_type": "code",
   "execution_count": 75,
   "metadata": {},
   "outputs": [
    {
     "data": {
      "text/plain": [
       "age                             float64\n",
       "anaemia                        category\n",
       "creatinine_phosphokinase          int64\n",
       "diabetes                       category\n",
       "ejection_fraction                 int64\n",
       "high_blood_pressure            category\n",
       "platelets                       float64\n",
       "serum_creatinine                float64\n",
       "serum_sodium                      int64\n",
       "sex                            category\n",
       "smoking                        category\n",
       "time                              int64\n",
       "DEATH_EVENT                       int64\n",
       "high_blood_pressure_smoking    category\n",
       "diabetes_smoking               category\n",
       "age_smoking                    category\n",
       "sex_smoking                    category\n",
       "anaemia_smoking                category\n",
       "dtype: object"
      ]
     },
     "execution_count": 75,
     "metadata": {},
     "output_type": "execute_result"
    }
   ],
   "source": [
    "#convert dummy to categorical dtypes\n",
    "for col in [dummy_variables+interaction]:\n",
    "    df[col] = df[col].astype('category')\n",
    "df.dtypes"
   ]
  },
  {
   "cell_type": "code",
   "execution_count": 76,
   "metadata": {},
   "outputs": [
    {
     "name": "stdout",
     "output_type": "stream",
     "text": [
      "(239, 16)\n",
      "(60, 16)\n",
      "(239,)\n",
      "(60,)\n",
      "0.31666666666666665\n",
      "0.32217573221757323\n",
      "0.7447698744769874\n",
      "0.9874476987447699\n",
      "1.0\n"
     ]
    },
    {
     "name": "stderr",
     "output_type": "stream",
     "text": [
      "C:\\Users\\jrathfelder\\AppData\\Local\\Continuum\\anaconda3\\lib\\site-packages\\sklearn\\preprocessing\\data.py:323: DataConversionWarning: Data with input dtype int64, float64 were all converted to float64 by MinMaxScaler.\n",
      "  return self.partial_fit(X, y)\n",
      "C:\\Users\\jrathfelder\\AppData\\Local\\Continuum\\anaconda3\\lib\\site-packages\\sklearn\\linear_model\\logistic.py:433: FutureWarning: Default solver will be changed to 'lbfgs' in 0.22. Specify a solver to silence this warning.\n",
      "  FutureWarning)\n",
      "C:\\Users\\jrathfelder\\AppData\\Local\\Continuum\\anaconda3\\lib\\site-packages\\sklearn\\preprocessing\\data.py:323: DataConversionWarning: Data with input dtype int64, float64 were all converted to float64 by MinMaxScaler.\n",
      "  return self.partial_fit(X, y)\n",
      "C:\\Users\\jrathfelder\\AppData\\Local\\Continuum\\anaconda3\\lib\\site-packages\\sklearn\\ensemble\\forest.py:246: FutureWarning: The default value of n_estimators will change from 10 in version 0.20 to 100 in 0.22.\n",
      "  \"10 in version 0.20 to 100 in 0.22.\", FutureWarning)\n",
      "C:\\Users\\jrathfelder\\AppData\\Local\\Continuum\\anaconda3\\lib\\site-packages\\sklearn\\preprocessing\\data.py:323: DataConversionWarning: Data with input dtype int64, float64 were all converted to float64 by MinMaxScaler.\n",
      "  return self.partial_fit(X, y)\n"
     ]
    }
   ],
   "source": [
    "target = df[target_dummy]\n",
    "features = df[all_variables]\n",
    "\n",
    "#Create train and test data\n",
    "X_train, X_test, y_train, y_test = train_test_split(features, target, test_size = 0.2, random_state = 2, stratify = target)\n",
    "\n",
    "print(X_train.shape)\n",
    "print(X_test.shape)\n",
    "print(y_train.shape)\n",
    "print(y_test.shape)\n",
    "\n",
    "#Check if fraction of positive class is similar in train and test\n",
    "print(np.mean(y_test))\n",
    "print(np.mean(y_train))\n",
    "\n",
    "#We scale the data, to get better results. I will not test this, as normally we get better results using scaled data:\n",
    "min_max_sc = MinMaxScaler()\n",
    "\n",
    "#############Model 1: Logistic Regression##################\n",
    "#Because we have unbalanced data, I already pick 'balanced' for class_weight in my base model. No need to test this. For sure\n",
    "# it will give better results:\n",
    "lr_basic = LogisticRegression(C = 1, random_state = 100, solver = 'warn', max_iter = 1000)\n",
    "scale_lr_pipeline = Pipeline(steps = [('scaler', min_max_sc), ('model', lr_basic)])\n",
    "\n",
    "#################Model 2: Random Forest Classification###################\n",
    "rfc_basic = RandomForestClassifier()\n",
    "scale_rf_pipeline = Pipeline(steps = [('scaler', min_max_sc), ('model', rfc_basic)])\n",
    "\n",
    "#################Model 3: XG Boost############\n",
    "xgboost_basic = xgb.XGBClassifier()\n",
    "scale_xg_pipeline = Pipeline(steps = [('scaler', min_max_sc), ('model', xgboost_basic)])\n",
    "\n",
    "#Encode categorical features\n",
    "encoder = ce.CatBoostEncoder() \n",
    "X_train = encoder.fit_transform(X_train, y_train)\n",
    "X_test = encoder.fit_transform(X_test, y_test)\n",
    "\n",
    "#############################################################\n",
    "#Run all three base models and get their initial performance:\n",
    "scale_lr_pipeline.fit(X_train, y_train) #method for random forest classifier) #Logistic Regression\n",
    "scale_rf_pipeline.fit(X_train, y_train) #Random Forest Classification\n",
    "scale_xg_pipeline.fit(X_train, y_train) #XG Boost Classification\n",
    "\n",
    "print(scale_lr_pipeline.score(X_train, y_train))\n",
    "print(scale_rf_pipeline.score(X_train, y_train))\n",
    "print(scale_xg_pipeline.score(X_train, y_train))"
   ]
  },
  {
   "cell_type": "code",
   "execution_count": 77,
   "metadata": {},
   "outputs": [
    {
     "name": "stdout",
     "output_type": "stream",
     "text": [
      "Logistic regression: 0.8151476251604619\n",
      "Random Forest Classifier: 0.766367137355584\n",
      "XG Boost: 0.72400513478819\n"
     ]
    }
   ],
   "source": [
    "y_pred_proba_lr = scale_lr_pipeline.predict_proba(X_test) #returns the predicted probability \n",
    "y_pred_proba_rf = scale_rf_pipeline.predict_proba(X_test) #returns the predicted probability \n",
    "y_pred_proba_xg = scale_xg_pipeline.predict_proba(X_test) #returns the predicted probability \n",
    "\n",
    "#ROC AUC Score\n",
    "print('Logistic regression:', roc_auc_score(y_test, pos_proba_lr))\n",
    "print('Random Forest Classifier:', roc_auc_score(y_test, pos_proba_rf))\n",
    "print('XG Boost:', roc_auc_score(y_test, pos_proba_xg))"
   ]
  },
  {
   "cell_type": "code",
   "execution_count": 81,
   "metadata": {},
   "outputs": [
    {
     "name": "stdout",
     "output_type": "stream",
     "text": [
      "Pipeline(memory=None,\n",
      "     steps=[('scaler', MinMaxScaler(copy=True, feature_range=(0, 1))), ('model', LogisticRegression(C=1, class_weight=None, dual=False, fit_intercept=True,\n",
      "          intercept_scaling=1, max_iter=1000, multi_class='warn',\n",
      "          n_jobs=None, penalty='l2', random_state=100, solver='warn',\n",
      "          tol=0.0001, verbose=0, warm_start=False))])\n",
      "DEATH_EVENT    0.316667\n",
      "pred           0.216667\n",
      "error          0.266667\n",
      "dtype: float64\n",
      "[[36  5]\n",
      " [11  8]]\n",
      "0.8780487804878049 0.42105263157894735\n",
      "\n",
      "Pipeline(memory=None,\n",
      "     steps=[('scaler', MinMaxScaler(copy=True, feature_range=(0, 1))), ('model', RandomForestClassifier(bootstrap=True, class_weight=None, criterion='gini',\n",
      "            max_depth=None, max_features='auto', max_leaf_nodes=None,\n",
      "            min_impurity_decrease=0.0, min_impurity_split=None,\n",
      "            mi...obs=None,\n",
      "            oob_score=False, random_state=None, verbose=0,\n",
      "            warm_start=False))])\n",
      "DEATH_EVENT    0.316667\n",
      "pred           0.833333\n",
      "error          0.583333\n",
      "dtype: float64\n",
      "[[ 8 33]\n",
      " [ 2 17]]\n",
      "0.1951219512195122 0.8947368421052632\n",
      "\n",
      "Pipeline(memory=None,\n",
      "     steps=[('scaler', MinMaxScaler(copy=True, feature_range=(0, 1))), ('model', XGBClassifier(base_score=0.5, booster='gbtree', colsample_bylevel=1,\n",
      "       colsample_bynode=1, colsample_bytree=1, gamma=0, gpu_id=-1,\n",
      "       importance_type='gain', interaction_constraints='',\n",
      "       learning_rate=0.300000...cale_pos_weight=1, subsample=1, tree_method='exact',\n",
      "       validate_parameters=1, verbosity=None))])\n",
      "DEATH_EVENT    0.316667\n",
      "pred           0.516667\n",
      "error          0.300000\n",
      "dtype: float64\n",
      "[[26 15]\n",
      " [ 3 16]]\n",
      "0.6341463414634146 0.8421052631578947\n",
      "\n"
     ]
    },
    {
     "data": {
      "image/png": "[encoded data removed]",
      "text/plain": [
       "<Figure size 432x288 with 4 Axes>"
      ]
     },
     "metadata": {
      "needs_background": "light"
     },
     "output_type": "display_data"
    },
    {
     "data": {
      "image/png": "[encoded data removed]",
      "text/plain": [
       "<Figure size 432x288 with 4 Axes>"
      ]
     },
     "metadata": {
      "needs_background": "light"
     },
     "output_type": "display_data"
    },
    {
     "data": {
      "image/png": "[encoded data removed]",
      "text/plain": [
       "<Figure size 432x288 with 4 Axes>"
      ]
     },
     "metadata": {
      "needs_background": "light"
     },
     "output_type": "display_data"
    }
   ],
   "source": [
    "for i,v in enumerate([scale_lr_pipeline,scale_rf_pipeline,scale_xg_pipeline]):\n",
    "    print(v)\n",
    "    pred = v.predict(X_test)\n",
    "    y_test = pd.DataFrame(y_test)\n",
    "    y_test['pred'] = pred\n",
    "\n",
    "    #zero-one error\n",
    "    y_test['error'] = np.where(y_test.DEATH_EVENT == y_test.pred,0,1)\n",
    "    print(y_test.mean())\n",
    "    y_test.hist()\n",
    "    print(metrics.confusion_matrix(y_test['DEATH_EVENT'], y_test['pred']))\n",
    "\n",
    "    TP_low = metrics.confusion_matrix(y_test['DEATH_EVENT'], y_test['pred'])[0][0] / np.sum(metrics.confusion_matrix(y_test['DEATH_EVENT'], y_test['pred'])[0])\n",
    "    TP_top = metrics.confusion_matrix(y_test['DEATH_EVENT'], y_test['pred'])[1][1] / np.sum(metrics.confusion_matrix(y_test['DEATH_EVENT'], y_test['pred'])[1])\n",
    "    print(TP_low,TP_top)\n",
    "    print()"
   ]
  },
  {
   "cell_type": "markdown",
   "metadata": {},
   "source": [
    "### Ensemble using Interaction Features"
   ]
  },
  {
   "cell_type": "code",
   "execution_count": 82,
   "metadata": {},
   "outputs": [
    {
     "name": "stdout",
     "output_type": "stream",
     "text": [
      "(239, 16)\n",
      "(60, 16)\n",
      "(239,)\n",
      "(60,)\n",
      "0.31666666666666665\n",
      "0.32217573221757323\n",
      "0.7447698744769874\n",
      "0.9790794979079498\n",
      "1.0\n"
     ]
    },
    {
     "name": "stderr",
     "output_type": "stream",
     "text": [
      "C:\\Users\\jrathfelder\\AppData\\Local\\Continuum\\anaconda3\\lib\\site-packages\\sklearn\\preprocessing\\data.py:323: DataConversionWarning: Data with input dtype int64, float64 were all converted to float64 by MinMaxScaler.\n",
      "  return self.partial_fit(X, y)\n",
      "C:\\Users\\jrathfelder\\AppData\\Local\\Continuum\\anaconda3\\lib\\site-packages\\sklearn\\linear_model\\logistic.py:433: FutureWarning: Default solver will be changed to 'lbfgs' in 0.22. Specify a solver to silence this warning.\n",
      "  FutureWarning)\n",
      "C:\\Users\\jrathfelder\\AppData\\Local\\Continuum\\anaconda3\\lib\\site-packages\\sklearn\\preprocessing\\data.py:323: DataConversionWarning: Data with input dtype int64, float64 were all converted to float64 by MinMaxScaler.\n",
      "  return self.partial_fit(X, y)\n",
      "C:\\Users\\jrathfelder\\AppData\\Local\\Continuum\\anaconda3\\lib\\site-packages\\sklearn\\ensemble\\forest.py:246: FutureWarning: The default value of n_estimators will change from 10 in version 0.20 to 100 in 0.22.\n",
      "  \"10 in version 0.20 to 100 in 0.22.\", FutureWarning)\n",
      "C:\\Users\\jrathfelder\\AppData\\Local\\Continuum\\anaconda3\\lib\\site-packages\\sklearn\\preprocessing\\data.py:323: DataConversionWarning: Data with input dtype int64, float64 were all converted to float64 by MinMaxScaler.\n",
      "  return self.partial_fit(X, y)\n"
     ]
    }
   ],
   "source": [
    "target = df[target_dummy]\n",
    "features = df[all_variables]\n",
    "\n",
    "#Create train and test data\n",
    "X_train, X_test, y_train, y_test = train_test_split(features, target, test_size = 0.2, random_state = 2, stratify = target)\n",
    "\n",
    "print(X_train.shape)\n",
    "print(X_test.shape)\n",
    "print(y_train.shape)\n",
    "print(y_test.shape)\n",
    "\n",
    "#Check if fraction of positive class is similar in train and test\n",
    "print(np.mean(y_test))\n",
    "print(np.mean(y_train))\n",
    "\n",
    "#We scale the data, to get better results. I will not test this, as normally we get better results using scaled data:\n",
    "min_max_sc = MinMaxScaler()\n",
    "\n",
    "#############Model 1: Logistic Regression##################\n",
    "#Because we have unbalanced data, I already pick 'balanced' for class_weight in my base model. No need to test this. For sure\n",
    "# it will give better results:\n",
    "lr_basic = LogisticRegression(C = 1, random_state = 100, solver = 'warn', max_iter = 1000)\n",
    "scale_lr_pipeline = Pipeline(steps = [('scaler', min_max_sc), ('model', lr_basic)])\n",
    "\n",
    "#################Model 2: Random Forest Classification###################\n",
    "rfc_basic = RandomForestClassifier()\n",
    "scale_rf_pipeline = Pipeline(steps = [('scaler', min_max_sc), ('model', rfc_basic)])\n",
    "\n",
    "#################Model 3: XG Boost############\n",
    "xgboost_basic = xgb.XGBClassifier()\n",
    "scale_xg_pipeline = Pipeline(steps = [('scaler', min_max_sc), ('model', xgboost_basic)])\n",
    "\n",
    "#Encode categorical features\n",
    "encoder = ce.CatBoostEncoder() \n",
    "X_train = encoder.fit_transform(X_train, y_train)\n",
    "X_test = encoder.fit_transform(X_test, y_test)\n",
    "\n",
    "#############################################################\n",
    "#Run all three base models and get their initial performance:\n",
    "scale_lr_pipeline.fit(X_train, y_train) #method for random forest classifier) #Logistic Regression\n",
    "scale_rf_pipeline.fit(X_train, y_train) #Random Forest Classification\n",
    "scale_xg_pipeline.fit(X_train, y_train) #XG Boost Classification\n",
    "\n",
    "print(scale_lr_pipeline.score(X_train, y_train))\n",
    "print(scale_rf_pipeline.score(X_train, y_train))\n",
    "print(scale_xg_pipeline.score(X_train, y_train))"
   ]
  },
  {
   "cell_type": "code",
   "execution_count": 93,
   "metadata": {},
   "outputs": [],
   "source": [
    "#let us use all three models for ensembling:\n",
    "#Get probabilities to display roc auc curve:\n",
    "y_pred_proba_lr = scale_lr_pipeline.predict_proba(X_test) #returns the predicted probability \n",
    "y_pred_proba_rf = scale_rf_pipeline.predict_proba(X_test) #returns the predicted probability \n",
    "y_pred_proba_xg = scale_xg_pipeline.predict_proba(X_test) #returns the predicted probability \n",
    "\n",
    "neg_prob = []\n",
    "pos_prob = []\n",
    "\n",
    "for i,v in enumerate(range(0,len(y_pred_proba_lr))):\n",
    "    neg_prob.append((y_pred_proba_lr[0:,0][i]  + y_pred_proba_xg[0:,0][i])/2)\n",
    "    pos_prob.append((y_pred_proba_lr[0:,1][i]  + y_pred_proba_xg[0:,1][i])/2)\n",
    "    \n",
    "final_pred = []\n",
    "for i,v in enumerate(range(0,len(neg_prob))):\n",
    "    if neg_prob[i] > pos_prob[i]:\n",
    "        final_pred.append(0)\n",
    "    else:\n",
    "        final_pred.append(1)    "
   ]
  },
  {
   "cell_type": "raw",
   "metadata": {},
   "source": [
    "I only use logistic model and xg boost in the ensemble, because here I get a good TPR for class zero (70%) and a very good TPR for class one (79%). For me this gives the best trade-off between the two classes. But this depends on what you want to solve and there might not be an easy and fast answer on which ratio you should go with."
   ]
  },
  {
   "cell_type": "code",
   "execution_count": 94,
   "metadata": {},
   "outputs": [
    {
     "name": "stdout",
     "output_type": "stream",
     "text": [
      "Ensemble roc auc: 0.8061617458279846\n"
     ]
    }
   ],
   "source": [
    "#y_test = y_test['DEATH_EVENT']\n",
    "#Get TPR and FPR and threshold values to plot curve:\n",
    "fpr_basic, tpr_basic, threshold_ensemble = metrics.roc_curve(y_test, pos_prob, drop_intermediate = False)\n",
    "#ROC AUC Score\n",
    "print('Ensemble roc auc:', roc_auc_score(y_test, pos_prob))"
   ]
  },
  {
   "cell_type": "code",
   "execution_count": 92,
   "metadata": {},
   "outputs": [
    {
     "name": "stdout",
     "output_type": "stream",
     "text": [
      "DEATH_EVENT    0.316667\n",
      "pred           0.450000\n",
      "error          0.266667\n",
      "dtype: float64\n",
      "[[29 12]\n",
      " [ 4 15]]\n",
      "0.7073170731707317 0.7894736842105263\n",
      "\n"
     ]
    },
    {
     "data": {
      "image/png": "[encoded data removed]",
      "text/plain": [
       "<Figure size 432x288 with 4 Axes>"
      ]
     },
     "metadata": {
      "needs_background": "light"
     },
     "output_type": "display_data"
    }
   ],
   "source": [
    "#calculate error using ensemble prediction\n",
    "y_test = pd.DataFrame(y_test)\n",
    "y_test['pred'] = final_pred\n",
    "\n",
    "#zero-one error\n",
    "y_test['error'] = np.where(y_test.DEATH_EVENT == y_test.pred,0,1)\n",
    "print(y_test.mean())\n",
    "y_test.hist()\n",
    "print(metrics.confusion_matrix(y_test['DEATH_EVENT'], y_test['pred']))\n",
    "\n",
    "TP_low = metrics.confusion_matrix(y_test['DEATH_EVENT'], y_test['pred'])[0][0] / np.sum(metrics.confusion_matrix(y_test['DEATH_EVENT'], y_test['pred'])[0])\n",
    "TP_top = metrics.confusion_matrix(y_test['DEATH_EVENT'], y_test['pred'])[1][1] / np.sum(metrics.confusion_matrix(y_test['DEATH_EVENT'], y_test['pred'])[1])\n",
    "print(TP_low,TP_top)\n",
    "print()"
   ]
  }
 ],
 "metadata": {
  "kernelspec": {
   "display_name": "Python 3",
   "language": "python",
   "name": "python3"
  },
  "language_info": {
   "codemirror_mode": {
    "name": "ipython",
    "version": 3
   },
   "file_extension": ".py",
   "mimetype": "text/x-python",
   "name": "python",
   "nbconvert_exporter": "python",
   "pygments_lexer": "ipython3",
   "version": "3.7.1"
  }
 },
 "nbformat": 4,
 "nbformat_minor": 2
}
